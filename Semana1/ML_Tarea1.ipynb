{
 "cells": [
  {
   "cell_type": "markdown",
   "id": "d7363fe9",
   "metadata": {},
   "source": [
    "# ML Semana 1 Grupo #777\n",
    "- Natalia Nobre\n",
    "- Joaquin Ferreira\n",
    "- Mathias Rodriguez"
   ]
  },
  {
   "cell_type": "markdown",
   "id": "14745270",
   "metadata": {},
   "source": [
    "### Configuración del ambiente:"
   ]
  },
  {
   "cell_type": "code",
   "execution_count": 135,
   "id": "819df58c",
   "metadata": {},
   "outputs": [],
   "source": [
    "# Imports\n",
    "import pandas as pd\n",
    "import numpy as np\n",
    "from sklearn.preprocessing import OrdinalEncoder\n",
    "import pandas_profiling\n",
    "from sklearn.model_selection import train_test_split\n",
    "from sklearn.linear_model import LinearRegression\n",
    "from sklearn.metrics import mean_squared_error, r2_score\n",
    "import matplotlib.pyplot as plt\n",
    "import matplotlib.pyplot as plt"
   ]
  },
  {
   "cell_type": "markdown",
   "id": "cdec75a3",
   "metadata": {},
   "source": [
    "### Importo los datos\n",
    "Importo los datos usando <code>pandas.read_csv()</code>"
   ]
  },
  {
   "cell_type": "code",
   "execution_count": 136,
   "id": "84c1ae7e",
   "metadata": {},
   "outputs": [],
   "source": [
    "# Importo con pandas para crear el Dataframe y lo nombro como \"df\"\n",
    "url_csv = \"vgsalesv3.csv\"\n",
    "df = pd.read_csv(url_csv, sep=';')"
   ]
  },
  {
   "cell_type": "code",
   "execution_count": 137,
   "id": "0ecf7236",
   "metadata": {
    "scrolled": false
   },
   "outputs": [
    {
     "data": {
      "text/html": [
       "<div>\n",
       "<style scoped>\n",
       "    .dataframe tbody tr th:only-of-type {\n",
       "        vertical-align: middle;\n",
       "    }\n",
       "\n",
       "    .dataframe tbody tr th {\n",
       "        vertical-align: top;\n",
       "    }\n",
       "\n",
       "    .dataframe thead th {\n",
       "        text-align: right;\n",
       "    }\n",
       "</style>\n",
       "<table border=\"1\" class=\"dataframe\">\n",
       "  <thead>\n",
       "    <tr style=\"text-align: right;\">\n",
       "      <th></th>\n",
       "      <th>Rank</th>\n",
       "      <th>Name</th>\n",
       "      <th>Platform</th>\n",
       "      <th>Year</th>\n",
       "      <th>Genre</th>\n",
       "      <th>Publisher</th>\n",
       "      <th>NA_Sales</th>\n",
       "      <th>EU_Sales</th>\n",
       "      <th>JP_Sales</th>\n",
       "      <th>Other_Sales</th>\n",
       "      <th>Global_Sales</th>\n",
       "    </tr>\n",
       "  </thead>\n",
       "  <tbody>\n",
       "    <tr>\n",
       "      <th>0</th>\n",
       "      <td>1</td>\n",
       "      <td>Wii Sports</td>\n",
       "      <td>Wii</td>\n",
       "      <td>2006.0</td>\n",
       "      <td>Sports</td>\n",
       "      <td>Nintendo</td>\n",
       "      <td>41.49</td>\n",
       "      <td>29.02</td>\n",
       "      <td>3.77</td>\n",
       "      <td>8.46</td>\n",
       "      <td>82.74</td>\n",
       "    </tr>\n",
       "    <tr>\n",
       "      <th>1</th>\n",
       "      <td>2</td>\n",
       "      <td>Super Mario Bros.</td>\n",
       "      <td>NES</td>\n",
       "      <td>1985.0</td>\n",
       "      <td>Platform</td>\n",
       "      <td>Nintendo</td>\n",
       "      <td>29.08</td>\n",
       "      <td>3.58</td>\n",
       "      <td>6.81</td>\n",
       "      <td>0.77</td>\n",
       "      <td>40.24</td>\n",
       "    </tr>\n",
       "    <tr>\n",
       "      <th>2</th>\n",
       "      <td>3</td>\n",
       "      <td>Mario Kart Wii</td>\n",
       "      <td>Wii</td>\n",
       "      <td>2008.0</td>\n",
       "      <td>Racing</td>\n",
       "      <td>Nintendo</td>\n",
       "      <td>15.85</td>\n",
       "      <td>12.88</td>\n",
       "      <td>3.79</td>\n",
       "      <td>3.31</td>\n",
       "      <td>35.82</td>\n",
       "    </tr>\n",
       "    <tr>\n",
       "      <th>3</th>\n",
       "      <td>4</td>\n",
       "      <td>Wii Sports Resort</td>\n",
       "      <td>Wii</td>\n",
       "      <td>2009.0</td>\n",
       "      <td>Sports</td>\n",
       "      <td>Nintendo</td>\n",
       "      <td>15.75</td>\n",
       "      <td>11.01</td>\n",
       "      <td>3.28</td>\n",
       "      <td>2.96</td>\n",
       "      <td>33.00</td>\n",
       "    </tr>\n",
       "    <tr>\n",
       "      <th>4</th>\n",
       "      <td>5</td>\n",
       "      <td>Pokemon Red/Pokemon Blue</td>\n",
       "      <td>GB</td>\n",
       "      <td>1996.0</td>\n",
       "      <td>Role-Playing</td>\n",
       "      <td>Nintendo</td>\n",
       "      <td>11.27</td>\n",
       "      <td>8.89</td>\n",
       "      <td>10.22</td>\n",
       "      <td>1.00</td>\n",
       "      <td>31.37</td>\n",
       "    </tr>\n",
       "  </tbody>\n",
       "</table>\n",
       "</div>"
      ],
      "text/plain": [
       "   Rank                      Name Platform    Year         Genre Publisher  \\\n",
       "0     1                Wii Sports      Wii  2006.0        Sports  Nintendo   \n",
       "1     2         Super Mario Bros.      NES  1985.0      Platform  Nintendo   \n",
       "2     3            Mario Kart Wii      Wii  2008.0        Racing  Nintendo   \n",
       "3     4         Wii Sports Resort      Wii  2009.0        Sports  Nintendo   \n",
       "4     5  Pokemon Red/Pokemon Blue       GB  1996.0  Role-Playing  Nintendo   \n",
       "\n",
       "   NA_Sales  EU_Sales  JP_Sales  Other_Sales  Global_Sales  \n",
       "0     41.49     29.02      3.77         8.46         82.74  \n",
       "1     29.08      3.58      6.81         0.77         40.24  \n",
       "2     15.85     12.88      3.79         3.31         35.82  \n",
       "3     15.75     11.01      3.28         2.96         33.00  \n",
       "4     11.27      8.89     10.22         1.00         31.37  "
      ]
     },
     "execution_count": 137,
     "metadata": {},
     "output_type": "execute_result"
    }
   ],
   "source": [
    "df.head()"
   ]
  },
  {
   "cell_type": "code",
   "execution_count": 138,
   "id": "1f4142ef",
   "metadata": {},
   "outputs": [
    {
     "name": "stderr",
     "output_type": "stream",
     "text": [
      "Summarize dataset: 100%|██████████| 75/75 [00:12<00:00,  6.12it/s, Completed]\n",
      "Generate report structure: 100%|██████████| 1/1 [00:05<00:00,  5.22s/it]\n",
      "Render HTML: 100%|██████████| 1/1 [00:01<00:00,  1.68s/it]\n",
      "Export report to file: 100%|██████████| 1/1 [00:00<00:00, 57.05it/s]\n",
      "Render JSON: 100%|██████████| 1/1 [00:00<00:00,  3.76it/s]\n",
      "Export report to file: 100%|██████████| 1/1 [00:00<00:00, 56.60it/s]\n"
     ]
    }
   ],
   "source": [
    "# run the profile report\n",
    "profile = df.profile_report(title='Pandas Profiling Report')\n",
    "# save the report as html file\n",
    "profile.to_file(output_file=\"pandas_profiling1.html\")\n",
    "# save the report as json file\n",
    "profile.to_file(output_file=\"pandas_profiling2.json\")"
   ]
  },
  {
   "cell_type": "code",
   "execution_count": 139,
   "id": "0ef89949",
   "metadata": {
    "scrolled": true
   },
   "outputs": [],
   "source": [
    "# Sacamos las columnas que no son utiles para el analisis\n",
    "df.drop(columns=[\"Rank\", \"NA_Sales\", \"EU_Sales\", \"JP_Sales\", \"Other_Sales\"],inplace=True)"
   ]
  },
  {
   "cell_type": "code",
   "execution_count": 140,
   "id": "dadc332d",
   "metadata": {},
   "outputs": [],
   "source": [
    "# sacamos año ya que muchos valores faltaban y eso es imporante para predecir las global sales en referencia a si \n",
    "# incrementan en el tiempo o no, y los campos faltantes de global sales ya que es la variable objetivo\n",
    "df.dropna(subset=['Year','Global_Sales'], inplace=True)"
   ]
  },
  {
   "cell_type": "code",
   "execution_count": 141,
   "id": "bc0f09f3",
   "metadata": {},
   "outputs": [
    {
     "data": {
      "text/html": [
       "<div>\n",
       "<style scoped>\n",
       "    .dataframe tbody tr th:only-of-type {\n",
       "        vertical-align: middle;\n",
       "    }\n",
       "\n",
       "    .dataframe tbody tr th {\n",
       "        vertical-align: top;\n",
       "    }\n",
       "\n",
       "    .dataframe thead th {\n",
       "        text-align: right;\n",
       "    }\n",
       "</style>\n",
       "<table border=\"1\" class=\"dataframe\">\n",
       "  <thead>\n",
       "    <tr style=\"text-align: right;\">\n",
       "      <th></th>\n",
       "      <th>Name</th>\n",
       "      <th>Platform</th>\n",
       "      <th>Year</th>\n",
       "      <th>Genre</th>\n",
       "      <th>Publisher</th>\n",
       "      <th>Global_Sales</th>\n",
       "    </tr>\n",
       "  </thead>\n",
       "  <tbody>\n",
       "    <tr>\n",
       "      <th>0</th>\n",
       "      <td>Wii Sports</td>\n",
       "      <td>Wii</td>\n",
       "      <td>2006.0</td>\n",
       "      <td>Sports</td>\n",
       "      <td>Nintendo</td>\n",
       "      <td>82.74</td>\n",
       "    </tr>\n",
       "    <tr>\n",
       "      <th>1</th>\n",
       "      <td>Super Mario Bros.</td>\n",
       "      <td>NES</td>\n",
       "      <td>1985.0</td>\n",
       "      <td>Platform</td>\n",
       "      <td>Nintendo</td>\n",
       "      <td>40.24</td>\n",
       "    </tr>\n",
       "    <tr>\n",
       "      <th>2</th>\n",
       "      <td>Mario Kart Wii</td>\n",
       "      <td>Wii</td>\n",
       "      <td>2008.0</td>\n",
       "      <td>Racing</td>\n",
       "      <td>Nintendo</td>\n",
       "      <td>35.82</td>\n",
       "    </tr>\n",
       "    <tr>\n",
       "      <th>3</th>\n",
       "      <td>Wii Sports Resort</td>\n",
       "      <td>Wii</td>\n",
       "      <td>2009.0</td>\n",
       "      <td>Sports</td>\n",
       "      <td>Nintendo</td>\n",
       "      <td>33.00</td>\n",
       "    </tr>\n",
       "    <tr>\n",
       "      <th>4</th>\n",
       "      <td>Pokemon Red/Pokemon Blue</td>\n",
       "      <td>GB</td>\n",
       "      <td>1996.0</td>\n",
       "      <td>Role-Playing</td>\n",
       "      <td>Nintendo</td>\n",
       "      <td>31.37</td>\n",
       "    </tr>\n",
       "  </tbody>\n",
       "</table>\n",
       "</div>"
      ],
      "text/plain": [
       "                       Name Platform    Year         Genre Publisher  \\\n",
       "0                Wii Sports      Wii  2006.0        Sports  Nintendo   \n",
       "1         Super Mario Bros.      NES  1985.0      Platform  Nintendo   \n",
       "2            Mario Kart Wii      Wii  2008.0        Racing  Nintendo   \n",
       "3         Wii Sports Resort      Wii  2009.0        Sports  Nintendo   \n",
       "4  Pokemon Red/Pokemon Blue       GB  1996.0  Role-Playing  Nintendo   \n",
       "\n",
       "   Global_Sales  \n",
       "0         82.74  \n",
       "1         40.24  \n",
       "2         35.82  \n",
       "3         33.00  \n",
       "4         31.37  "
      ]
     },
     "execution_count": 141,
     "metadata": {},
     "output_type": "execute_result"
    }
   ],
   "source": [
    "df.head()"
   ]
  },
  {
   "cell_type": "code",
   "execution_count": 142,
   "id": "56ac2bde",
   "metadata": {},
   "outputs": [
    {
     "name": "stderr",
     "output_type": "stream",
     "text": [
      "Summarize dataset: 100%|██████████| 30/30 [00:02<00:00, 11.12it/s, Completed]\n",
      "Generate report structure: 100%|██████████| 1/1 [00:02<00:00,  2.37s/it]\n",
      "Render HTML: 100%|██████████| 1/1 [00:00<00:00,  1.49it/s]\n",
      "Export report to file: 100%|██████████| 1/1 [00:00<00:00, 130.65it/s]\n"
     ]
    }
   ],
   "source": [
    "# run the profile report\n",
    "profile = df.profile_report(title='Pandas Profiling Report')\n",
    "# save the report as html file\n",
    "profile.to_file(output_file=\"pandas_profilingClean.html\")"
   ]
  },
  {
   "cell_type": "code",
   "execution_count": 143,
   "id": "942569f1",
   "metadata": {},
   "outputs": [
    {
     "name": "stdout",
     "output_type": "stream",
     "text": [
      "Ejemplos usados para entrenar:  13056\n",
      "Ejemplos usados para test:  3265\n"
     ]
    }
   ],
   "source": [
    "dfTrain, dfTest = train_test_split(df, test_size = 0.20)\n",
    "\n",
    "print(\"Ejemplos usados para entrenar: \", len(dfTrain))\n",
    "print(\"Ejemplos usados para test: \", len(dfTest))\n"
   ]
  },
  {
   "cell_type": "code",
   "execution_count": 144,
   "id": "a5538ccd",
   "metadata": {},
   "outputs": [
    {
     "data": {
      "text/html": [
       "<div>\n",
       "<style scoped>\n",
       "    .dataframe tbody tr th:only-of-type {\n",
       "        vertical-align: middle;\n",
       "    }\n",
       "\n",
       "    .dataframe tbody tr th {\n",
       "        vertical-align: top;\n",
       "    }\n",
       "\n",
       "    .dataframe thead th {\n",
       "        text-align: right;\n",
       "    }\n",
       "</style>\n",
       "<table border=\"1\" class=\"dataframe\">\n",
       "  <thead>\n",
       "    <tr style=\"text-align: right;\">\n",
       "      <th></th>\n",
       "      <th>Name</th>\n",
       "      <th>Platform</th>\n",
       "      <th>Year</th>\n",
       "      <th>Genre</th>\n",
       "      <th>Publisher</th>\n",
       "      <th>Global_Sales</th>\n",
       "    </tr>\n",
       "  </thead>\n",
       "  <tbody>\n",
       "    <tr>\n",
       "      <th>4925</th>\n",
       "      <td>Taiko no Tatsujin Wii: Ketteiban</td>\n",
       "      <td>Wii</td>\n",
       "      <td>2011.0</td>\n",
       "      <td>Misc</td>\n",
       "      <td>Namco Bandai Games</td>\n",
       "      <td>0.39</td>\n",
       "    </tr>\n",
       "    <tr>\n",
       "      <th>5969</th>\n",
       "      <td>Power Pro Kun Pocket 4</td>\n",
       "      <td>GBA</td>\n",
       "      <td>2002.0</td>\n",
       "      <td>Sports</td>\n",
       "      <td>Konami Digital Entertainment</td>\n",
       "      <td>0.29</td>\n",
       "    </tr>\n",
       "    <tr>\n",
       "      <th>8980</th>\n",
       "      <td>Dragon Ball Z: Idainaru Dragon Ball Densetsu</td>\n",
       "      <td>SAT</td>\n",
       "      <td>1995.0</td>\n",
       "      <td>Fighting</td>\n",
       "      <td>Namco Bandai Games</td>\n",
       "      <td>0.15</td>\n",
       "    </tr>\n",
       "    <tr>\n",
       "      <th>10777</th>\n",
       "      <td>Ultimate Muscle - The Kinnikuman Legacy: The P...</td>\n",
       "      <td>GBA</td>\n",
       "      <td>2002.0</td>\n",
       "      <td>Fighting</td>\n",
       "      <td>Banpresto</td>\n",
       "      <td>0.10</td>\n",
       "    </tr>\n",
       "    <tr>\n",
       "      <th>8049</th>\n",
       "      <td>International Superstar Soccer 2000 (JP weekly...</td>\n",
       "      <td>N64</td>\n",
       "      <td>1999.0</td>\n",
       "      <td>Sports</td>\n",
       "      <td>Konami Digital Entertainment</td>\n",
       "      <td>0.18</td>\n",
       "    </tr>\n",
       "  </tbody>\n",
       "</table>\n",
       "</div>"
      ],
      "text/plain": [
       "                                                    Name Platform    Year  \\\n",
       "4925                    Taiko no Tatsujin Wii: Ketteiban      Wii  2011.0   \n",
       "5969                              Power Pro Kun Pocket 4      GBA  2002.0   \n",
       "8980        Dragon Ball Z: Idainaru Dragon Ball Densetsu      SAT  1995.0   \n",
       "10777  Ultimate Muscle - The Kinnikuman Legacy: The P...      GBA  2002.0   \n",
       "8049   International Superstar Soccer 2000 (JP weekly...      N64  1999.0   \n",
       "\n",
       "          Genre                     Publisher  Global_Sales  \n",
       "4925       Misc            Namco Bandai Games          0.39  \n",
       "5969     Sports  Konami Digital Entertainment          0.29  \n",
       "8980   Fighting            Namco Bandai Games          0.15  \n",
       "10777  Fighting                     Banpresto          0.10  \n",
       "8049     Sports  Konami Digital Entertainment          0.18  "
      ]
     },
     "execution_count": 144,
     "metadata": {},
     "output_type": "execute_result"
    }
   ],
   "source": [
    "dfTest.head()"
   ]
  },
  {
   "cell_type": "code",
   "execution_count": 145,
   "id": "a6956e62",
   "metadata": {},
   "outputs": [],
   "source": [
    "dfTest.to_csv(\"test.csv\")"
   ]
  },
  {
   "cell_type": "code",
   "execution_count": 146,
   "id": "834c5706",
   "metadata": {},
   "outputs": [],
   "source": [
    "dfTrain.to_csv(\"train.csv\")"
   ]
  },
  {
   "cell_type": "code",
   "execution_count": 147,
   "id": "02b18f4d",
   "metadata": {},
   "outputs": [
    {
     "name": "stdout",
     "output_type": "stream",
     "text": [
      "Coeficientes: [-0.021196]\n",
      "Error: 3.452495870640265\n",
      "Coeficiente de determinacion (R^2): % 0.0017346446923753867\n"
     ]
    },
    {
     "data": {
      "image/png": "[encoded data removed]",
      "text/plain": [
       "<Figure size 432x288 with 1 Axes>"
      ]
     },
     "metadata": {
      "needs_background": "light"
     },
     "output_type": "display_data"
    }
   ],
   "source": [
    "xTrain = np.array(dfTrain[\"Year\"]).reshape((-1, 1))\n",
    "yTrain = dfTrain['Global_Sales']\n",
    "xTest = np.array(dfTest[\"Year\"]).reshape((-1, 1))\n",
    "yTest = dfTest['Global_Sales']\n",
    "\n",
    "model = LinearRegression()\n",
    "model.fit(xTrain, yTrain)\n",
    "y_pred = model.predict(X = xTest)\n",
    "\n",
    "# imprimimos los coeficientes y el error del modelo\n",
    "print('Coeficientes:', model.coef_)\n",
    "print('Error:', mean_squared_error(yTest, y_pred))\n",
    "print('Coeficiente de determinacion (R^2): %', r2_score(yTest, y_pred))\n",
    "\n",
    "plt.scatter(xTest, yTest,  color='orange')\n",
    "plt.plot(xTest, y_pred, color='red', linewidth=3)\n",
    "\n",
    "plt.show()"
   ]
  },
  {
   "cell_type": "code",
   "execution_count": null,
   "id": "e9e3e025",
   "metadata": {},
   "outputs": [],
   "source": [
    "\n"
   ]
  }
 ],
 "metadata": {
  "interpreter": {
   "hash": "f68e6cfe802d496a581ee38cc7b3151ec8a6707a15f0b178ee48a260a7352fdc"
  },
  "kernelspec": {
   "display_name": "Python 3.9.7 64-bit (windows store)",
   "name": "python3"
  },
  "language_info": {
   "codemirror_mode": {
    "name": "ipython",
    "version": 3
   },
   "file_extension": ".py",
   "mimetype": "text/x-python",
   "name": "python",
   "nbconvert_exporter": "python",
   "pygments_lexer": "ipython3",
   "version": "3.9.7"
  }
 },
 "nbformat": 4,
 "nbformat_minor": 5
}
