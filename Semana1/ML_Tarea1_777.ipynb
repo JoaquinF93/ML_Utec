{
 "cells": [
  {
   "cell_type": "markdown",
   "source": [
    "# ML Semana 1 Grupo #777\n",
    "- Natalia Nobre\n",
    "- Joaquin Ferreira\n",
    "- Mathias Rodriguez"
   ],
   "metadata": {}
  },
  {
   "cell_type": "markdown",
   "source": [
    "### Configuración del ambiente:"
   ],
   "metadata": {}
  },
  {
   "cell_type": "code",
   "execution_count": 2,
   "source": [
    "# Imports\r\n",
    "import pandas as pd\r\n",
    "import numpy as np\r\n",
    "from sklearn.preprocessing import OrdinalEncoder\r\n",
    "import pandas_profiling\r\n",
    "from sklearn.model_selection import train_test_split\r\n",
    "from sklearn.linear_model import LinearRegression\r\n",
    "from sklearn.metrics import mean_squared_error, r2_score\r\n",
    "import matplotlib.pyplot as plt\r\n",
    "%matplotlib inline "
   ],
   "outputs": [],
   "metadata": {}
  },
  {
   "cell_type": "markdown",
   "source": [
    "### Importo los datos\n",
    "Importo los datos usando <code>pandas.read_csv()</code>"
   ],
   "metadata": {}
  },
  {
   "cell_type": "code",
   "execution_count": 4,
   "source": [
    "# Importo con pandas para crear el Dataframe y lo nombro como \"df\"\r\n",
    "url_csv = \"vgsalesv2.csv\"\r\n",
    "df = pd.read_csv(url_csv, sep=';')"
   ],
   "outputs": [],
   "metadata": {}
  },
  {
   "cell_type": "code",
   "execution_count": 5,
   "source": [
    "df.head()"
   ],
   "outputs": [
    {
     "output_type": "execute_result",
     "data": {
      "text/html": [
       "<div>\n",
       "<style scoped>\n",
       "    .dataframe tbody tr th:only-of-type {\n",
       "        vertical-align: middle;\n",
       "    }\n",
       "\n",
       "    .dataframe tbody tr th {\n",
       "        vertical-align: top;\n",
       "    }\n",
       "\n",
       "    .dataframe thead th {\n",
       "        text-align: right;\n",
       "    }\n",
       "</style>\n",
       "<table border=\"1\" class=\"dataframe\">\n",
       "  <thead>\n",
       "    <tr style=\"text-align: right;\">\n",
       "      <th></th>\n",
       "      <th>Rank</th>\n",
       "      <th>Name</th>\n",
       "      <th>Platform</th>\n",
       "      <th>Year</th>\n",
       "      <th>Genre</th>\n",
       "      <th>Publisher</th>\n",
       "      <th>NA_Sales</th>\n",
       "      <th>EU_Sales</th>\n",
       "      <th>JP_Sales</th>\n",
       "      <th>Other_Sales</th>\n",
       "      <th>Global_Sales</th>\n",
       "    </tr>\n",
       "  </thead>\n",
       "  <tbody>\n",
       "    <tr>\n",
       "      <th>0</th>\n",
       "      <td>1</td>\n",
       "      <td>Wii Sports</td>\n",
       "      <td>Wii</td>\n",
       "      <td>2006.0</td>\n",
       "      <td>Sports</td>\n",
       "      <td>Nintendo</td>\n",
       "      <td>41.49</td>\n",
       "      <td>29.02</td>\n",
       "      <td>3.77</td>\n",
       "      <td>8.46</td>\n",
       "      <td>82.74</td>\n",
       "    </tr>\n",
       "    <tr>\n",
       "      <th>1</th>\n",
       "      <td>2</td>\n",
       "      <td>Super Mario Bros.</td>\n",
       "      <td>NES</td>\n",
       "      <td>1985.0</td>\n",
       "      <td>Platform</td>\n",
       "      <td>Nintendo</td>\n",
       "      <td>29.08</td>\n",
       "      <td>3.58</td>\n",
       "      <td>6.81</td>\n",
       "      <td>0.77</td>\n",
       "      <td>40.24</td>\n",
       "    </tr>\n",
       "    <tr>\n",
       "      <th>2</th>\n",
       "      <td>3</td>\n",
       "      <td>Mario Kart Wii</td>\n",
       "      <td>Wii</td>\n",
       "      <td>2008.0</td>\n",
       "      <td>Racing</td>\n",
       "      <td>Nintendo</td>\n",
       "      <td>15.85</td>\n",
       "      <td>12.88</td>\n",
       "      <td>3.79</td>\n",
       "      <td>3.31</td>\n",
       "      <td>35.82</td>\n",
       "    </tr>\n",
       "    <tr>\n",
       "      <th>3</th>\n",
       "      <td>4</td>\n",
       "      <td>Wii Sports Resort</td>\n",
       "      <td>Wii</td>\n",
       "      <td>2009.0</td>\n",
       "      <td>Sports</td>\n",
       "      <td>Nintendo</td>\n",
       "      <td>15.75</td>\n",
       "      <td>11.01</td>\n",
       "      <td>3.28</td>\n",
       "      <td>2.96</td>\n",
       "      <td>33.00</td>\n",
       "    </tr>\n",
       "    <tr>\n",
       "      <th>4</th>\n",
       "      <td>5</td>\n",
       "      <td>Pokemon Red/Pokemon Blue</td>\n",
       "      <td>GB</td>\n",
       "      <td>1996.0</td>\n",
       "      <td>Role-Playing</td>\n",
       "      <td>Nintendo</td>\n",
       "      <td>11.27</td>\n",
       "      <td>8.89</td>\n",
       "      <td>10.22</td>\n",
       "      <td>1.00</td>\n",
       "      <td>31.37</td>\n",
       "    </tr>\n",
       "  </tbody>\n",
       "</table>\n",
       "</div>"
      ],
      "text/plain": [
       "   Rank                      Name Platform    Year         Genre Publisher  \\\n",
       "0     1                Wii Sports      Wii  2006.0        Sports  Nintendo   \n",
       "1     2         Super Mario Bros.      NES  1985.0      Platform  Nintendo   \n",
       "2     3            Mario Kart Wii      Wii  2008.0        Racing  Nintendo   \n",
       "3     4         Wii Sports Resort      Wii  2009.0        Sports  Nintendo   \n",
       "4     5  Pokemon Red/Pokemon Blue       GB  1996.0  Role-Playing  Nintendo   \n",
       "\n",
       "   NA_Sales  EU_Sales  JP_Sales  Other_Sales  Global_Sales  \n",
       "0     41.49     29.02      3.77         8.46         82.74  \n",
       "1     29.08      3.58      6.81         0.77         40.24  \n",
       "2     15.85     12.88      3.79         3.31         35.82  \n",
       "3     15.75     11.01      3.28         2.96         33.00  \n",
       "4     11.27      8.89     10.22         1.00         31.37  "
      ]
     },
     "metadata": {},
     "execution_count": 5
    }
   ],
   "metadata": {
    "scrolled": false
   }
  },
  {
   "cell_type": "markdown",
   "source": [
    "## Preparación de los datos"
   ],
   "metadata": {}
  },
  {
   "cell_type": "markdown",
   "source": [
    "A partir del Data Profiling tomamos ciertas desiciones para realizar la limpieza y armado del data frame para manejarlo."
   ],
   "metadata": {}
  },
  {
   "cell_type": "code",
   "execution_count": null,
   "source": [
    "# Corremos el data profiling\r\n",
    "profile = df.profile_report(title='Pandas Profiling Report')\r\n",
    "# Lo guardamos como .csv\r\n",
    "profile.to_file(output_file=\"pandas_profiling1.html\")"
   ],
   "outputs": [
    {
     "output_type": "stream",
     "name": "stderr",
     "text": [
      "Summarize dataset: 100%|██████████| 75/75 [00:12<00:00,  6.12it/s, Completed]\n",
      "Generate report structure: 100%|██████████| 1/1 [00:05<00:00,  5.22s/it]\n",
      "Render HTML: 100%|██████████| 1/1 [00:01<00:00,  1.68s/it]\n",
      "Export report to file: 100%|██████████| 1/1 [00:00<00:00, 57.05it/s]\n",
      "Render JSON: 100%|██████████| 1/1 [00:00<00:00,  3.76it/s]\n",
      "Export report to file: 100%|██████████| 1/1 [00:00<00:00, 56.60it/s]\n"
     ]
    }
   ],
   "metadata": {}
  },
  {
   "cell_type": "code",
   "execution_count": 6,
   "source": [
    "# Sacamos las columnas que no son utiles para el analisis\r\n",
    "df.drop(columns=[\"Rank\", \"NA_Sales\", \"EU_Sales\", \"JP_Sales\", \"Other_Sales\"],inplace=True)"
   ],
   "outputs": [],
   "metadata": {
    "scrolled": true
   }
  },
  {
   "cell_type": "markdown",
   "source": [
    "Sacamos año ya que muchos valores faltaban y eso es imporante para predecir las global sales en referencia a si \r\n",
    "incrementan en el tiempo o no, y los campos faltantes de global sales ya que es la variable objetivo"
   ],
   "metadata": {}
  },
  {
   "cell_type": "code",
   "execution_count": 7,
   "source": [
    "df.dropna(subset=['Year','Global_Sales'], inplace=True)"
   ],
   "outputs": [],
   "metadata": {}
  },
  {
   "cell_type": "code",
   "execution_count": null,
   "source": [
    "# Corremos nuevamente el data profiling \r\n",
    "profile = df.profile_report(title='Pandas Profiling Report')\r\n",
    "profile.to_file(output_file=\"pandas_profilingClean.html\")"
   ],
   "outputs": [
    {
     "output_type": "stream",
     "name": "stderr",
     "text": [
      "Summarize dataset: 100%|██████████| 30/30 [00:02<00:00, 11.12it/s, Completed]\n",
      "Generate report structure: 100%|██████████| 1/1 [00:02<00:00,  2.37s/it]\n",
      "Render HTML: 100%|██████████| 1/1 [00:00<00:00,  1.49it/s]\n",
      "Export report to file: 100%|██████████| 1/1 [00:00<00:00, 130.65it/s]\n"
     ]
    }
   ],
   "metadata": {}
  },
  {
   "cell_type": "markdown",
   "source": [
    "Dividimos el dataframe en 2 utilizando el 80% de los datos para el entrenamiento y el 20% para test. Finalmente los guardamos como .CSV"
   ],
   "metadata": {}
  },
  {
   "cell_type": "code",
   "execution_count": 8,
   "source": [
    "dfTrain, dfTest = train_test_split(df, test_size = 0.20)\r\n",
    "dfTest.to_csv(\"test.csv\")\r\n",
    "dfTrain.to_csv(\"train.csv\")\r\n",
    "print(\"Ejemplos usados para entrenar: \", len(dfTrain))\r\n",
    "print(\"Ejemplos usados para test: \", len(dfTest))"
   ],
   "outputs": [
    {
     "output_type": "stream",
     "name": "stdout",
     "text": [
      "Ejemplos usados para entrenar:  13056\n",
      "Ejemplos usados para test:  3265\n"
     ]
    }
   ],
   "metadata": {}
  },
  {
   "cell_type": "code",
   "execution_count": 9,
   "source": [
    "dfTest.head()"
   ],
   "outputs": [
    {
     "output_type": "execute_result",
     "data": {
      "text/html": [
       "<div>\n",
       "<style scoped>\n",
       "    .dataframe tbody tr th:only-of-type {\n",
       "        vertical-align: middle;\n",
       "    }\n",
       "\n",
       "    .dataframe tbody tr th {\n",
       "        vertical-align: top;\n",
       "    }\n",
       "\n",
       "    .dataframe thead th {\n",
       "        text-align: right;\n",
       "    }\n",
       "</style>\n",
       "<table border=\"1\" class=\"dataframe\">\n",
       "  <thead>\n",
       "    <tr style=\"text-align: right;\">\n",
       "      <th></th>\n",
       "      <th>Name</th>\n",
       "      <th>Platform</th>\n",
       "      <th>Year</th>\n",
       "      <th>Genre</th>\n",
       "      <th>Publisher</th>\n",
       "      <th>Global_Sales</th>\n",
       "    </tr>\n",
       "  </thead>\n",
       "  <tbody>\n",
       "    <tr>\n",
       "      <th>11734</th>\n",
       "      <td>Backyard NBA Basketball</td>\n",
       "      <td>DS</td>\n",
       "      <td>2007.0</td>\n",
       "      <td>Sports</td>\n",
       "      <td>Atari</td>\n",
       "      <td>0.07</td>\n",
       "    </tr>\n",
       "    <tr>\n",
       "      <th>3104</th>\n",
       "      <td>Yoshi Topsy-Turvy</td>\n",
       "      <td>GBA</td>\n",
       "      <td>2004.0</td>\n",
       "      <td>Platform</td>\n",
       "      <td>Nintendo</td>\n",
       "      <td>0.65</td>\n",
       "    </tr>\n",
       "    <tr>\n",
       "      <th>12019</th>\n",
       "      <td>Crimson Sea 2</td>\n",
       "      <td>PS2</td>\n",
       "      <td>2004.0</td>\n",
       "      <td>Action</td>\n",
       "      <td>Tecmo Koei</td>\n",
       "      <td>0.07</td>\n",
       "    </tr>\n",
       "    <tr>\n",
       "      <th>434</th>\n",
       "      <td>Club Penguin: Elite Penguin Force</td>\n",
       "      <td>DS</td>\n",
       "      <td>2008.0</td>\n",
       "      <td>Adventure</td>\n",
       "      <td>Disney Interactive Studios</td>\n",
       "      <td>3.16</td>\n",
       "    </tr>\n",
       "    <tr>\n",
       "      <th>15842</th>\n",
       "      <td>Pachi-Slot Higrashi no Naku Koro ni Matsuri</td>\n",
       "      <td>PS2</td>\n",
       "      <td>2010.0</td>\n",
       "      <td>Misc</td>\n",
       "      <td>Alchemist</td>\n",
       "      <td>0.02</td>\n",
       "    </tr>\n",
       "  </tbody>\n",
       "</table>\n",
       "</div>"
      ],
      "text/plain": [
       "                                              Name Platform    Year  \\\n",
       "11734                      Backyard NBA Basketball       DS  2007.0   \n",
       "3104                             Yoshi Topsy-Turvy      GBA  2004.0   \n",
       "12019                                Crimson Sea 2      PS2  2004.0   \n",
       "434              Club Penguin: Elite Penguin Force       DS  2008.0   \n",
       "15842  Pachi-Slot Higrashi no Naku Koro ni Matsuri      PS2  2010.0   \n",
       "\n",
       "           Genre                   Publisher  Global_Sales  \n",
       "11734     Sports                       Atari          0.07  \n",
       "3104    Platform                    Nintendo          0.65  \n",
       "12019     Action                  Tecmo Koei          0.07  \n",
       "434    Adventure  Disney Interactive Studios          3.16  \n",
       "15842       Misc                   Alchemist          0.02  "
      ]
     },
     "metadata": {},
     "execution_count": 9
    }
   ],
   "metadata": {}
  },
  {
   "cell_type": "code",
   "execution_count": 10,
   "source": [
    "#Separamos las variables que vamos a utilizar.\r\n",
    "xTrain = np.array(dfTrain[\"Year\"]).reshape((-1, 1))\r\n",
    "yTrain = dfTrain['Global_Sales']\r\n",
    "xTest = np.array(dfTest[\"Year\"]).reshape((-1, 1))\r\n",
    "yTest = dfTest['Global_Sales']\r\n",
    "\r\n",
    "#Preparamos el modelo y lo empezamos a entrenar\r\n",
    "model = LinearRegression()\r\n",
    "model.fit(xTrain, yTrain)\r\n",
    "y_pred = model.predict(X = xTest)\r\n",
    "\r\n",
    "# Imprimimos los coeficientes y el error del modelo\r\n",
    "print('Coeficientes:', model.coef_)\r\n",
    "print('Error:', mean_squared_error(yTest, y_pred))\r\n",
    "print('Coeficiente de determinacion (R^2): %', r2_score(yTest, y_pred))\r\n",
    "\r\n",
    "plt.scatter(xTest, yTest,  color='orange')\r\n",
    "plt.plot(xTest, y_pred, color='red', linewidth=3)\r\n",
    "plt.xlabel('Años')\r\n",
    "plt.ylabel('Ventas Globales') \r\n",
    "plt.show()"
   ],
   "outputs": [
    {
     "output_type": "stream",
     "name": "stdout",
     "text": [
      "Coeficientes: [-0.02013263]\n",
      "Error: 1.9508290453201667\n",
      "Coeficiente de determinacion (R^2): % 0.006469898928012197\n"
     ]
    },
    {
     "output_type": "display_data",
     "data": {
      "image/png": "[encoded data removed]",
      "text/plain": [
       "<Figure size 432x288 with 1 Axes>"
      ]
     },
     "metadata": {
      "needs_background": "light"
     }
    }
   ],
   "metadata": {}
  }
 ],
 "metadata": {
  "interpreter": {
   "hash": "f5c1c9bf082d9c9e9fcab8f62250dbcceda5b5833c3238c722bb8af17554fbad"
  },
  "kernelspec": {
   "name": "python3",
   "display_name": "Python 3.8.8 64-bit ('base': conda)"
  },
  "language_info": {
   "codemirror_mode": {
    "name": "ipython",
    "version": 3
   },
   "file_extension": ".py",
   "mimetype": "text/x-python",
   "name": "python",
   "nbconvert_exporter": "python",
   "pygments_lexer": "ipython3",
   "version": "3.8.8"
  }
 },
 "nbformat": 4,
 "nbformat_minor": 5
}