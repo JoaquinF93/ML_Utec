{
 "cells": [
  {
   "cell_type": "markdown",
   "id": "d7363fe9",
   "metadata": {},
   "source": [
    "# ML Semana 2 Grupo #777\n",
    "- Natalia Nobre\n",
    "- Joaquin Ferreira\n",
    "- Mathias Rodriguez"
   ]
  },
  {
   "cell_type": "markdown",
   "id": "14745270",
   "metadata": {},
   "source": [
    "### Configuración del ambiente:"
   ]
  },
  {
   "cell_type": "code",
   "execution_count": 126,
   "id": "819df58c",
   "metadata": {},
   "outputs": [],
   "source": [
    "# Imports\n",
    "import pandas as pd\n",
    "import numpy as np\n",
    "from sklearn.preprocessing import OrdinalEncoder\n",
    "import pandas_profiling\n",
    "from sklearn.model_selection import train_test_split\n",
    "from sklearn.metrics import mean_squared_error, r2_score\n",
    "import matplotlib.pyplot as plt\n",
    "import matplotlib.pyplot as plt\n",
    "from sklearn.ensemble import RandomForestClassifier\n",
    "from mlxtend.plotting import plot_confusion_matrix\n",
    "from sklearn.metrics import confusion_matrix\n",
    "from sklearn import tree"
   ]
  },
  {
   "cell_type": "markdown",
   "id": "cdec75a3",
   "metadata": {},
   "source": [
    "### Importo los datos\n",
    "Importo los datos usando <code>pandas.read_csv()</code>"
   ]
  },
  {
   "cell_type": "code",
   "execution_count": 127,
   "id": "84c1ae7e",
   "metadata": {},
   "outputs": [],
   "source": [
    "# Importo con pandas para crear el Dataframe y lo nombro como \"df\"\n",
    "url_csv = \"vgsalesv3.csv\"\n",
    "df = pd.read_csv(url_csv, sep=';')"
   ]
  },
  {
   "cell_type": "code",
   "execution_count": 128,
   "id": "0ecf7236",
   "metadata": {
    "scrolled": false
   },
   "outputs": [
    {
     "data": {
      "text/html": [
       "<div>\n",
       "<style scoped>\n",
       "    .dataframe tbody tr th:only-of-type {\n",
       "        vertical-align: middle;\n",
       "    }\n",
       "\n",
       "    .dataframe tbody tr th {\n",
       "        vertical-align: top;\n",
       "    }\n",
       "\n",
       "    .dataframe thead th {\n",
       "        text-align: right;\n",
       "    }\n",
       "</style>\n",
       "<table border=\"1\" class=\"dataframe\">\n",
       "  <thead>\n",
       "    <tr style=\"text-align: right;\">\n",
       "      <th></th>\n",
       "      <th>Rank</th>\n",
       "      <th>Name</th>\n",
       "      <th>Platform</th>\n",
       "      <th>Year</th>\n",
       "      <th>Genre</th>\n",
       "      <th>Publisher</th>\n",
       "      <th>NA_Sales</th>\n",
       "      <th>EU_Sales</th>\n",
       "      <th>JP_Sales</th>\n",
       "      <th>Other_Sales</th>\n",
       "      <th>Global_Sales</th>\n",
       "    </tr>\n",
       "  </thead>\n",
       "  <tbody>\n",
       "    <tr>\n",
       "      <th>0</th>\n",
       "      <td>1</td>\n",
       "      <td>Wii Sports</td>\n",
       "      <td>Wii</td>\n",
       "      <td>2006.0</td>\n",
       "      <td>Sports</td>\n",
       "      <td>Nintendo</td>\n",
       "      <td>41.49</td>\n",
       "      <td>29.02</td>\n",
       "      <td>3.77</td>\n",
       "      <td>8.46</td>\n",
       "      <td>82.74</td>\n",
       "    </tr>\n",
       "    <tr>\n",
       "      <th>1</th>\n",
       "      <td>2</td>\n",
       "      <td>Super Mario Bros.</td>\n",
       "      <td>NES</td>\n",
       "      <td>1985.0</td>\n",
       "      <td>Platform</td>\n",
       "      <td>Nintendo</td>\n",
       "      <td>29.08</td>\n",
       "      <td>3.58</td>\n",
       "      <td>6.81</td>\n",
       "      <td>0.77</td>\n",
       "      <td>40.24</td>\n",
       "    </tr>\n",
       "    <tr>\n",
       "      <th>2</th>\n",
       "      <td>3</td>\n",
       "      <td>Mario Kart Wii</td>\n",
       "      <td>Wii</td>\n",
       "      <td>2008.0</td>\n",
       "      <td>Racing</td>\n",
       "      <td>Nintendo</td>\n",
       "      <td>15.85</td>\n",
       "      <td>12.88</td>\n",
       "      <td>3.79</td>\n",
       "      <td>3.31</td>\n",
       "      <td>35.82</td>\n",
       "    </tr>\n",
       "    <tr>\n",
       "      <th>3</th>\n",
       "      <td>4</td>\n",
       "      <td>Wii Sports Resort</td>\n",
       "      <td>Wii</td>\n",
       "      <td>2009.0</td>\n",
       "      <td>Sports</td>\n",
       "      <td>Nintendo</td>\n",
       "      <td>15.75</td>\n",
       "      <td>11.01</td>\n",
       "      <td>3.28</td>\n",
       "      <td>2.96</td>\n",
       "      <td>33.00</td>\n",
       "    </tr>\n",
       "    <tr>\n",
       "      <th>4</th>\n",
       "      <td>5</td>\n",
       "      <td>Pokemon Red/Pokemon Blue</td>\n",
       "      <td>GB</td>\n",
       "      <td>1996.0</td>\n",
       "      <td>Role-Playing</td>\n",
       "      <td>Nintendo</td>\n",
       "      <td>11.27</td>\n",
       "      <td>8.89</td>\n",
       "      <td>10.22</td>\n",
       "      <td>1.00</td>\n",
       "      <td>31.37</td>\n",
       "    </tr>\n",
       "  </tbody>\n",
       "</table>\n",
       "</div>"
      ],
      "text/plain": [
       "   Rank                      Name Platform    Year         Genre Publisher  \\\n",
       "0     1                Wii Sports      Wii  2006.0        Sports  Nintendo   \n",
       "1     2         Super Mario Bros.      NES  1985.0      Platform  Nintendo   \n",
       "2     3            Mario Kart Wii      Wii  2008.0        Racing  Nintendo   \n",
       "3     4         Wii Sports Resort      Wii  2009.0        Sports  Nintendo   \n",
       "4     5  Pokemon Red/Pokemon Blue       GB  1996.0  Role-Playing  Nintendo   \n",
       "\n",
       "   NA_Sales  EU_Sales  JP_Sales  Other_Sales  Global_Sales  \n",
       "0     41.49     29.02      3.77         8.46         82.74  \n",
       "1     29.08      3.58      6.81         0.77         40.24  \n",
       "2     15.85     12.88      3.79         3.31         35.82  \n",
       "3     15.75     11.01      3.28         2.96         33.00  \n",
       "4     11.27      8.89     10.22         1.00         31.37  "
      ]
     },
     "execution_count": 128,
     "metadata": {},
     "output_type": "execute_result"
    }
   ],
   "source": [
    "df.head()"
   ]
  },
  {
   "cell_type": "code",
   "execution_count": 129,
   "id": "0ef89949",
   "metadata": {
    "scrolled": true
   },
   "outputs": [],
   "source": [
    "# Sacamos las columnas que no son utiles para el analisis\n",
    "df.drop(columns=[\"Rank\", \"NA_Sales\", \"EU_Sales\", \"Other_Sales\",\"Publisher\",\"Year\",\"Name\"],inplace=True)"
   ]
  },
  {
   "cell_type": "code",
   "execution_count": 130,
   "id": "dadc332d",
   "metadata": {},
   "outputs": [],
   "source": [
    "# incrementan en el tiempo o no, y los campos faltantes de global sales ya que es la variable objetivo\n",
    "df.dropna(subset=['Global_Sales'], inplace=True)\n",
    "df.dropna(subset=['JP_Sales'], inplace=True)\n"
   ]
  },
  {
   "cell_type": "code",
   "execution_count": 131,
   "metadata": {},
   "outputs": [],
   "source": [
    "#Factorizamos la columna genre y nos quedamos con sus valores numericos ignorando la otra columna correspondiente al valor\n",
    "df['Factor_Genre'] = df['Genre'].factorize()[0]\n",
    "df['Factor_Platform'] = df['Platform'].factorize()[0]\n",
    "df.drop(columns=[\"Genre\"],inplace=True)\n",
    "df.drop(columns=[\"Platform\"],inplace=True)\n",
    "\n"
   ]
  },
  {
   "cell_type": "code",
   "execution_count": 132,
   "id": "bc0f09f3",
   "metadata": {},
   "outputs": [
    {
     "data": {
      "text/html": [
       "<div>\n",
       "<style scoped>\n",
       "    .dataframe tbody tr th:only-of-type {\n",
       "        vertical-align: middle;\n",
       "    }\n",
       "\n",
       "    .dataframe tbody tr th {\n",
       "        vertical-align: top;\n",
       "    }\n",
       "\n",
       "    .dataframe thead th {\n",
       "        text-align: right;\n",
       "    }\n",
       "</style>\n",
       "<table border=\"1\" class=\"dataframe\">\n",
       "  <thead>\n",
       "    <tr style=\"text-align: right;\">\n",
       "      <th></th>\n",
       "      <th>JP_Sales</th>\n",
       "      <th>Global_Sales</th>\n",
       "      <th>Factor_Genre</th>\n",
       "      <th>Factor_Platform</th>\n",
       "    </tr>\n",
       "  </thead>\n",
       "  <tbody>\n",
       "    <tr>\n",
       "      <th>0</th>\n",
       "      <td>3.77</td>\n",
       "      <td>82.74</td>\n",
       "      <td>0</td>\n",
       "      <td>0</td>\n",
       "    </tr>\n",
       "    <tr>\n",
       "      <th>1</th>\n",
       "      <td>6.81</td>\n",
       "      <td>40.24</td>\n",
       "      <td>1</td>\n",
       "      <td>1</td>\n",
       "    </tr>\n",
       "    <tr>\n",
       "      <th>2</th>\n",
       "      <td>3.79</td>\n",
       "      <td>35.82</td>\n",
       "      <td>2</td>\n",
       "      <td>0</td>\n",
       "    </tr>\n",
       "    <tr>\n",
       "      <th>3</th>\n",
       "      <td>3.28</td>\n",
       "      <td>33.00</td>\n",
       "      <td>0</td>\n",
       "      <td>0</td>\n",
       "    </tr>\n",
       "    <tr>\n",
       "      <th>4</th>\n",
       "      <td>10.22</td>\n",
       "      <td>31.37</td>\n",
       "      <td>3</td>\n",
       "      <td>2</td>\n",
       "    </tr>\n",
       "  </tbody>\n",
       "</table>\n",
       "</div>"
      ],
      "text/plain": [
       "   JP_Sales  Global_Sales  Factor_Genre  Factor_Platform\n",
       "0      3.77         82.74             0                0\n",
       "1      6.81         40.24             1                1\n",
       "2      3.79         35.82             2                0\n",
       "3      3.28         33.00             0                0\n",
       "4     10.22         31.37             3                2"
      ]
     },
     "execution_count": 132,
     "metadata": {},
     "output_type": "execute_result"
    }
   ],
   "source": [
    "df.head()"
   ]
  },
  {
   "cell_type": "code",
   "execution_count": 133,
   "id": "942569f1",
   "metadata": {},
   "outputs": [
    {
     "name": "stdout",
     "output_type": "stream",
     "text": [
      "Ejemplos usados para entrenar:  13270\n",
      "Ejemplos usados para test:  3318\n"
     ]
    }
   ],
   "source": [
    "dfTrain, dfTest = train_test_split(df, test_size = 0.20)\n",
    "\n",
    "print(\"Ejemplos usados para entrenar: \", len(dfTrain))\n",
    "print(\"Ejemplos usados para test: \", len(dfTest))\n"
   ]
  },
  {
   "cell_type": "code",
   "execution_count": 135,
   "id": "02b18f4d",
   "metadata": {},
   "outputs": [
    {
     "name": "stderr",
     "output_type": "stream",
     "text": [
      "C:\\Users\\mir-j\\AppData\\Local\\Temp/ipykernel_952/2954449526.py:16: UserWarning: Matplotlib is currently using agg, which is a non-GUI backend, so cannot show the figure.\n",
      "  plt.show()\n"
     ]
    }
   ],
   "source": [
    "xTrain = dfTrain.drop(columns=[\"Factor_Genre\"])\n",
    "yTrain= dfTrain['Factor_Genre']\n",
    "xTest = dfTest.drop(columns=[\"Factor_Genre\"])\n",
    "yTest = dfTest['Factor_Genre']\n",
    "\n",
    "\n",
    "model = RandomForestClassifier(n_estimators=19, random_state = 2016, min_samples_leaf = 8)\n",
    "model.fit(xTrain, yTrain)\n",
    "model.score(xTest, yTest)\n",
    "Ypred = model.predict(xTest)\n",
    "#Creamos la confusion matrix\n",
    "matriz = confusion_matrix(yTest, Ypred)\n",
    "plot_confusion_matrix(conf_mat=matriz, figsize=(6,6), show_normed=False)\n",
    "plt.tight_layout(rect=[0, 0.03, 1, 0.95])\n",
    "plt.tight_layout()\n",
    "plt.show()\n",
    "# y_pred = model.predict(X = xTest)\n",
    "\n",
    "# # imprimimos los coeficientes y el error del modelo\n",
    "# print('Coeficientes:', model.coef_)\n",
    "# print('Error:', mean_squared_error(yTest, y_pred))\n",
    "# print('Coeficiente de determinacion (R^2): %', r2_score(yTest, y_pred))\n",
    "\n",
    "# plt.scatter(xTest, yTest,  color='orange')\n",
    "# plt.plot(xTest, y_pred, color='red', linewidth=3)\n",
    "\n",
    "# plt.show()"
   ]
  }
 ],
 "metadata": {
  "interpreter": {
   "hash": "f5c1c9bf082d9c9e9fcab8f62250dbcceda5b5833c3238c722bb8af17554fbad"
  },
  "kernelspec": {
   "display_name": "Python 3.8.8 64-bit (system)",
   "name": "python3"
  },
  "language_info": {
   "codemirror_mode": {
    "name": "ipython",
    "version": 3
   },
   "file_extension": ".py",
   "mimetype": "text/x-python",
   "name": "python",
   "nbconvert_exporter": "python",
   "pygments_lexer": "ipython3",
   "version": "3.8.8"
  }
 },
 "nbformat": 4,
 "nbformat_minor": 5
}
